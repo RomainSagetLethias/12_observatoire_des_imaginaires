{
 "cells": [
  {
   "cell_type": "markdown",
   "id": "aa58c2c2",
   "metadata": {},
   "source": [
    "Before running this notebook, make sure to download datasets from kaggle using commands in Makefile :\n",
    "- download-tmdb-movies-dataset\n",
    "- download-full-tmdb-tv-shows-dataset\n",
    "\n",
    "You may need first to get your api's credentials for kaggle first : [here](https://github.com/Kaggle/kaggle-api#api-credentials)\n",
    "\n",
    "Alternatively you can download directly the datasets from kaggle website :\n",
    "- [tmdb-movies-dataset](https://www.kaggle.com/datasets/asaniczka/tmdb-movies-dataset-2023-930k-movies)\n",
    "- [full-tmdb-tv-shows-dataset](https://www.kaggle.com/datasets/asaniczka/full-tmdb-tv-shows-dataset-2023-150k-shows)\n",
    "\n",
    "And put downloaded zip files into ./data folder and change KAGGLE_TMDB_MOVIES_DATASET_NAME & KAGGLE_TMDB_TVSHOWS_DATASET_NAME values if needed."
   ]
  },
  {
   "cell_type": "code",
   "execution_count": 6,
   "id": "22a2fc9f-6e22-40cc-aa37-e4039572e196",
   "metadata": {},
   "outputs": [],
   "source": [
    "import os\n",
    "import zipfile\n",
    "from pathlib import Path\n",
    "\n",
    "import pandas as pd"
   ]
  },
  {
   "cell_type": "code",
   "execution_count": 7,
   "id": "f2b9b36b",
   "metadata": {},
   "outputs": [],
   "source": [
    "DATA_DIRECTORY = Path(\"../data\").resolve()\n",
    "\n",
    "KAGGLE_TMDB_MOVIES_DATASET_NAME = \"tmdb-movies-dataset-2023-930k-movies.zip\"\n",
    "KAGGLE_TMDB_TVSHOWS_DATASET_NAME = \"full-tmdb-tv-shows-dataset-2023-150k-shows.zip\"\n",
    "\n",
    "KAGGLE_TMDB_MOVIES_DATASET_PATH = DATA_DIRECTORY / KAGGLE_TMDB_MOVIES_DATASET_NAME\n",
    "KAGGLE_TMDB_TVSHOWS_DATASET_PATH = DATA_DIRECTORY / KAGGLE_TMDB_TVSHOWS_DATASET_NAME\n",
    "\n",
    "EXTRACT_MOVIES_ZIP_TO = DATA_DIRECTORY / \"tmdb_movies\"\n",
    "EXTRACT_MOVIES_ZIP_TO.mkdir(exist_ok=True, parents=True)\n",
    "EXTRACT_TWSHOWS_ZIP_TO = DATA_DIRECTORY / \"tmdb_tvshows\"\n",
    "EXTRACT_TWSHOWS_ZIP_TO.mkdir(exist_ok=True, parents=True)\n",
    "EXPORT_TMDB_SUBSETS_TO = DATA_DIRECTORY / \"subsets\"\n",
    "EXPORT_TMDB_SUBSETS_TO.mkdir(exist_ok=True, parents=True)\n",
    "\n",
    "MOVIES_COLUMNS_OF_INTEREST = ['title', 'original_title', 'release_date', 'production_countries', 'genres', 'production_companies', 'vote_average', 'revenue']\n",
    "NB_MOVIES_SUBSET = 5000"
   ]
  },
  {
   "cell_type": "code",
   "execution_count": 8,
   "id": "fc3989b0",
   "metadata": {},
   "outputs": [],
   "source": [
    "with zipfile.ZipFile(KAGGLE_TMDB_MOVIES_DATASET_PATH, 'r') as f:\n",
    "    f.extractall(path=EXTRACT_MOVIES_ZIP_TO)\n",
    "\n",
    "df_movies = pd.read_csv(EXTRACT_MOVIES_ZIP_TO / os.listdir(EXTRACT_MOVIES_ZIP_TO)[0])"
   ]
  },
  {
   "cell_type": "code",
   "execution_count": 9,
   "id": "bf19fe99",
   "metadata": {},
   "outputs": [],
   "source": [
    "with zipfile.ZipFile(KAGGLE_TMDB_TVSHOWS_DATASET_PATH, 'r') as f:\n",
    "    f.extractall(path=EXTRACT_TWSHOWS_ZIP_TO)\n",
    "\n",
    "df_tvshows = pd.read_csv(EXTRACT_TWSHOWS_ZIP_TO / os.listdir(EXTRACT_TWSHOWS_ZIP_TO)[0])"
   ]
  },
  {
   "cell_type": "code",
   "execution_count": 10,
   "id": "7429796d",
   "metadata": {},
   "outputs": [],
   "source": [
    "df_movies.dropna(axis=0, how='any', subset=MOVIES_COLUMNS_OF_INTEREST, inplace=True)\n",
    "\n",
    "df_movies_subset = df_movies[(df_movies['status'] == 'Released') & \n",
    "                             (~df_movies['adult']) &\n",
    "                             (df_movies['release_date'] < '2024-03-01')].sort_values(by='release_date', ascending=False).iloc[0:NB_MOVIES_SUBSET]\n",
    "          \n",
    "df_movies_subset.to_csv(EXPORT_TMDB_SUBSETS_TO / \"tmdb_movies_subset.csv\")"
   ]
  }
 ],
 "metadata": {
  "kernelspec": {
   "display_name": "Python 3",
   "language": "python",
   "name": "python3"
  },
  "language_info": {
   "codemirror_mode": {
    "name": "ipython",
    "version": 3
   },
   "file_extension": ".py",
   "mimetype": "text/x-python",
   "name": "python",
   "nbconvert_exporter": "python",
   "pygments_lexer": "ipython3",
   "version": "3.10.12"
  }
 },
 "nbformat": 4,
 "nbformat_minor": 5
}
