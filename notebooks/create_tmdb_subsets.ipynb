{
 "cells": [
  {
   "cell_type": "markdown",
   "id": "aa58c2c2",
   "metadata": {},
   "source": [
    "Before running this notebook, make sure to download datasets from kaggle using commands in Makefile :\n",
    "- download-full-tmdb-tv-shows-dataset\n",
    "- download-tmdb-movies-dataset\n",
    "\n",
    "You may need first to get your api's credentials for kaggle first : [here](https://github.com/Kaggle/kaggle-api#api-credentials)"
   ]
  },
  {
   "cell_type": "code",
   "execution_count": 1,
   "id": "22a2fc9f-6e22-40cc-aa37-e4039572e196",
   "metadata": {},
   "outputs": [],
   "source": [
    "import os\n",
    "import zipfile\n",
    "\n",
    "import pandas as pd\n",
    "\n",
    "from observatoire.constants import DATA_DIRECTORY, KAGGLE_TMDB_MOVIES_DATASET_PATH, KAGGLE_TMDB_TVSHOWS_DATASET_PATH"
   ]
  },
  {
   "cell_type": "code",
   "execution_count": 2,
   "id": "f2b9b36b",
   "metadata": {},
   "outputs": [],
   "source": [
    "EXTRACT_MOVIES_TO = DATA_DIRECTORY / \"TMDB_MOVIES\"\n",
    "EXTRACT_TWSHOWS_TO = DATA_DIRECTORY / \"TMDB_TVSHOWS\"\n",
    "\n",
    "MOVIES_COLUMNS_OF_INTEREST = ['title', 'original_title', 'release_date', 'production_countries', 'genres', 'production_companies', 'vote_average', 'revenue']\n",
    "NB_MOVIES_SUBSET = 5000"
   ]
  },
  {
   "cell_type": "code",
   "execution_count": 3,
   "id": "fc3989b0",
   "metadata": {},
   "outputs": [],
   "source": [
    "with zipfile.ZipFile(KAGGLE_TMDB_MOVIES_DATASET_PATH, 'r') as f:\n",
    "    f.extractall(path=EXTRACT_MOVIES_TO)\n",
    "\n",
    "df_movies = pd.read_csv(EXTRACT_MOVIES_TO / os.listdir(EXTRACT_MOVIES_TO)[0])"
   ]
  },
  {
   "cell_type": "code",
   "execution_count": 4,
   "id": "bf19fe99",
   "metadata": {},
   "outputs": [],
   "source": [
    "with zipfile.ZipFile(KAGGLE_TMDB_TVSHOWS_DATASET_PATH, 'r') as f:\n",
    "    f.extractall(path=EXTRACT_TWSHOWS_TO)\n",
    "\n",
    "df_tvshows = pd.read_csv(EXTRACT_TWSHOWS_TO / os.listdir(EXTRACT_TWSHOWS_TO)[0])"
   ]
  },
  {
   "cell_type": "code",
   "execution_count": 5,
   "id": "7429796d",
   "metadata": {},
   "outputs": [],
   "source": [
    "df_movies.dropna(axis=0, how='any', subset=MOVIES_COLUMNS_OF_INTEREST, inplace=True)\n",
    "\n",
    "df_movies_subset = df_movies[(df_movies['status'] == 'Released') & \n",
    "                             (~df_movies['adult']) &\n",
    "                             (df_movies['release_date'] < '2024-03-01')].sort_values(by='release_date', ascending=False).iloc[0:NB_MOVIES_SUBSET]\n",
    "          \n",
    "df_movies_subset.to_csv(EXTRACT_MOVIES_TO / \"tmdb_movies_subset.csv\")"
   ]
  }
 ],
 "metadata": {
  "kernelspec": {
   "display_name": "Python 3",
   "language": "python",
   "name": "python3"
  },
  "language_info": {
   "codemirror_mode": {
    "name": "ipython",
    "version": 3
   },
   "file_extension": ".py",
   "mimetype": "text/x-python",
   "name": "python",
   "nbconvert_exporter": "python",
   "pygments_lexer": "ipython3",
   "version": "3.10.12"
  }
 },
 "nbformat": 4,
 "nbformat_minor": 5
}
