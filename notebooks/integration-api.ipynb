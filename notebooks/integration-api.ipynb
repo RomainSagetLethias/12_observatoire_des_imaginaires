{
 "cells": [
  {
   "cell_type": "markdown",
   "metadata": {},
   "source": [
    "INTEGRATION APIs"
   ]
  },
  {
   "cell_type": "markdown",
   "metadata": {},
   "source": [
    "Pour l’analyse de données, il faut : \n",
    "* accéder aux données \n",
    "   * voir le type de base de données proposée par l’équipe Questionnaire (Google sheet via Tally? )\n",
    "   * et confirmer l’accès (démontrer notre capacité à se connecter)\n",
    "* pouvoir enrichir les données (via TMDB par ex)\n",
    "   * démontrer notre capacité à récupérer des données tierces via API\n",
    "   * sauf si cette étape est faite par l’équipe Questionnaire (qui veut aussi accéder aux données des films ? \n",
    "* pipeline de traitement des données pour produire les KPI \n",
    "   * décider du stockage des KPIs ou les calculer à la demande ? \n",
    "      * rester sur G-sheet ? \n",
    "      * base de données classique (postgresql, sqlite…?)\n",
    "      * définir un modèle en étoile ? pas nécessaire? "
   ]
  },
  {
   "cell_type": "markdown",
   "metadata": {},
   "source": [
    "# IMPORTS"
   ]
  },
  {
   "cell_type": "code",
   "execution_count": 1,
   "metadata": {},
   "outputs": [
    {
     "name": "stderr",
     "output_type": "stream",
     "text": [
      "/var/folders/cw/pk20bql55690x9wk3ngfpvgm0000gn/T/ipykernel_18408/715639572.py:8: DeprecationWarning: \n",
      "Pyarrow will become a required dependency of pandas in the next major release of pandas (pandas 3.0),\n",
      "(to allow more performant data types, such as the Arrow string type, and better interoperability with other libraries)\n",
      "but was not found to be installed on your system.\n",
      "If this would cause problems for you,\n",
      "please provide us feedback at https://github.com/pandas-dev/pandas/issues/54466\n",
      "        \n",
      "  import pandas as pd\n"
     ]
    }
   ],
   "source": [
    "# dotenv configuration\n",
    "import os\n",
    "import requests\n",
    "import typing as typ\n",
    "\n",
    "from dotenv import load_dotenv\n",
    "import numpy as np\n",
    "import pandas as pd\n",
    "\n",
    "# api integration google\n",
    "from google.auth.transport.requests import Request\n",
    "from google.oauth2.credentials import Credentials\n",
    "from google_auth_oauthlib.flow import InstalledAppFlow\n",
    "from googleapiclient.discovery import build, Resource\n",
    "from googleapiclient.errors import HttpError"
   ]
  },
  {
   "cell_type": "markdown",
   "metadata": {},
   "source": [
    "# SCRIPTS"
   ]
  },
  {
   "cell_type": "code",
   "execution_count": 2,
   "metadata": {},
   "outputs": [
    {
     "name": "stdout",
     "output_type": "stream",
     "text": [
      "DOTENV_TEST = Data4Good\n"
     ]
    }
   ],
   "source": [
    "# Configuration dotenv\n",
    "# Load the stored environment variables\n",
    "load_dotenv()\n",
    "\n",
    "# Get the values\n",
    "dotenv_test = os.getenv(\"DOTENV_TEST\")\n",
    "\n",
    "print(f\"DOTENV_TEST = {dotenv_test}\")"
   ]
  },
  {
   "cell_type": "markdown",
   "metadata": {},
   "source": [
    "## accès google sheet"
   ]
  },
  {
   "cell_type": "code",
   "execution_count": 3,
   "metadata": {},
   "outputs": [],
   "source": [
    "# cf. https://developers.google.com/sheets/api/quickstart/python?hl=fr\n",
    "# based on the quickstart template\n",
    "\n",
    "# If modifying these scopes, delete the file token.json.\n",
    "SCOPES = [\"https://www.googleapis.com/auth/spreadsheets.readonly\"]\n",
    "\n",
    "def read_from_google_sheet(spreadsheet_id: str, range_name: str) -> None | typ.List[typ.Any]:\n",
    "  \"\"\"Shows basic usage of the Sheets API.\n",
    "  Prints values from a sample spreadsheet.\n",
    "  \"\"\"\n",
    "  tokenPath = \"../apis/google/token.json\"\n",
    "  creds = None\n",
    "  # The file token.json stores the user's access and refresh tokens, and is\n",
    "  # created automatically when the authorization flow completes for the first\n",
    "  # time.\n",
    "  if os.path.exists(tokenPath):\n",
    "    creds = Credentials.from_authorized_user_file(tokenPath, SCOPES)\n",
    "  # If there are no (valid) credentials available, let the user log in.\n",
    "  if not creds or not creds.valid:\n",
    "    if creds and creds.expired and creds.refresh_token:\n",
    "      creds.refresh(Request())\n",
    "    else:\n",
    "      flow = InstalledAppFlow.from_client_secrets_file(\n",
    "          \"../apis/google/credentials.json\", SCOPES\n",
    "      )\n",
    "      creds = flow.run_local_server(port=0)\n",
    "    # Save the credentials for the next run\n",
    "    with open(tokenPath, \"w\") as token:\n",
    "      token.write(creds.to_json())\n",
    "\n",
    "  try:\n",
    "    service = build(\"sheets\", \"v4\", credentials=creds)\n",
    "    # Call the Sheets API\n",
    "    sheet = service.spreadsheets()\n",
    "    result = (\n",
    "        sheet.values()\n",
    "        .get(spreadsheetId=spreadsheet_id, range=range_name)\n",
    "        .execute()\n",
    "    )\n",
    "    sheet_data: typ.List[typ.Any] | None = result.get(\"values\", [])\n",
    "\n",
    "    \n",
    "    #if not sheet_data or len(sheet_data) == 0:\n",
    "    #  print(\"No data found.\")\n",
    "    #  return None\n",
    "    #\n",
    "    #return sheet_data\n",
    "    return sheet_data\n",
    "  \n",
    "  except HttpError as err:\n",
    "    print(\"http error\", err)\n"
   ]
  },
  {
   "cell_type": "code",
   "execution_count": 10,
   "metadata": {},
   "outputs": [
    {
     "name": "stdout",
     "output_type": "stream",
     "text": [
      "<class 'pandas.core.frame.DataFrame'>\n",
      "RangeIndex: 10 entries, 0 to 9\n",
      "Data columns (total 5 columns):\n",
      " #   Column        Non-Null Count  Dtype \n",
      "---  ------        --------------  ----- \n",
      " 0   created_date  10 non-null     object\n",
      " 1   answer_1      10 non-null     object\n",
      " 2   answer_2      10 non-null     object\n",
      " 3   filmId        10 non-null     object\n",
      " 4   sourceFilmId  10 non-null     object\n",
      "dtypes: object(5)\n",
      "memory usage: 528.0+ bytes\n"
     ]
    }
   ],
   "source": [
    "# The ID and range of a sample spreadsheet.\n",
    "SPREADSHEET_ID = os.getenv(\"GOOGLE_SPREADSHEET_ID\")\n",
    "if SPREADSHEET_ID is None:\n",
    "  raise TypeError(\"Missing spreadsheet id\")\n",
    "RANGE_NAME = \"idForm1!A1:ZZZ\"\n",
    "\n",
    "google_data = read_from_google_sheet(spreadsheet_id=SPREADSHEET_ID, range_name=RANGE_NAME)\n",
    "if not google_data or len(google_data) == 0:\n",
    "  raise ValueError(\"no data\")\n",
    "\n",
    "data = pd.DataFrame(columns=google_data[0], data=google_data[1:])\n",
    "data.info()"
   ]
  },
  {
   "cell_type": "markdown",
   "metadata": {},
   "source": [
    "# accès TMDB "
   ]
  },
  {
   "cell_type": "markdown",
   "metadata": {},
   "source": [
    "TMDb offers a powerful API service that is free to use as long as you properly attribute us as the source of the data and/or images you use. You can find the logos for attribution here.\n",
    "\n"
   ]
  },
  {
   "cell_type": "markdown",
   "metadata": {},
   "source": [
    "### search movies"
   ]
  },
  {
   "cell_type": "code",
   "execution_count": 14,
   "metadata": {},
   "outputs": [
    {
     "name": "stdout",
     "output_type": "stream",
     "text": [
      "total_results 13\n"
     ]
    },
    {
     "data": {
      "text/plain": [
       "['Heartbeats',\n",
       " 'Imaginary Feasts',\n",
       " 'Axel and the True Story of an Imaginary Illness',\n",
       " 'Orsay (Musées imaginaires I)',\n",
       " 'Quai Branly (Musées imaginaires II)',\n",
       " 'Vagabonds imaginaires',\n",
       " 'Films Imaginaires',\n",
       " 'Le Malade imaginaire',\n",
       " 'Come Away',\n",
       " 'A Land Imagined',\n",
       " 'The Invention of Imaginary Machines of Destruction',\n",
       " 'Imaginary Flying Machines',\n",
       " 'La bottega degli amici immaginari']"
      ]
     },
     "execution_count": 14,
     "metadata": {},
     "output_type": "execute_result"
    }
   ],
   "source": [
    "query = \"imaginaires\"\n",
    "url = f\"https://api.themoviedb.org/3/search/movie?query={query}&include_adult=false\"\n",
    "headers = {\n",
    "    \"accept\": \"application/json\",\n",
    "    \"Authorization\": f'Bearer {os.getenv(\"TMDB_API_READ_ACCESS_TOKEN\")}'\n",
    "}\n",
    "\n",
    "response = requests.get(url, headers=headers)\n",
    "results = response.json()\n",
    "print(\"total_results\", results['total_results'])\n",
    "# \n",
    "[ t['title'] for t in results['results']]"
   ]
  },
  {
   "cell_type": "markdown",
   "metadata": {},
   "source": [
    "### get movies"
   ]
  },
  {
   "cell_type": "code",
   "execution_count": 20,
   "metadata": {},
   "outputs": [
    {
     "name": "stdout",
     "output_type": "stream",
     "text": [
      "title: Bringing Up Baby\n",
      "imdb id: tt0029947\n"
     ]
    }
   ],
   "source": [
    "movieId = \"900\"\n",
    "url = f\"https://api.themoviedb.org/3/movie/{movieId}\"\n",
    "headers = {\n",
    "    \"accept\": \"application/json\",\n",
    "    \"Authorization\": f'Bearer {os.getenv(\"TMDB_API_READ_ACCESS_TOKEN\")}'\n",
    "}\n",
    "\n",
    "response = requests.get(url, headers=headers)\n",
    "\n",
    "results = response.json()\n",
    "print(\"title:\", results['title'])\n",
    "print(\"imdb id:\", results['imdb_id'])"
   ]
  },
  {
   "cell_type": "code",
   "execution_count": 26,
   "metadata": {},
   "outputs": [
    {
     "name": "stdout",
     "output_type": "stream",
     "text": [
      "id: 540\n",
      "id: 1490\n",
      "id: 2450\n",
      "404\n",
      "id: 388\n",
      "id: 1992\n",
      "id: 110\n",
      "id: 2457\n",
      "id: 12356\n",
      "404\n",
      "id: 9991\n",
      "id: 1999\n"
     ]
    },
    {
     "data": {
      "text/plain": [
       "[3500000, 0, -999, 45000000, 0, 0, 0, -999, 0, 1700000]"
      ]
     },
     "execution_count": 26,
     "metadata": {},
     "output_type": "execute_result"
    }
   ],
   "source": [
    "#exemple budget\n",
    "budgets = []\n",
    "for movieId in data.filmId:\n",
    "    print('id:', movieId)\n",
    "    \n",
    "    url = f\"https://api.themoviedb.org/3/movie/{movieId}\"\n",
    "    headers = {\n",
    "        \"accept\": \"application/json\",\n",
    "        \"Authorization\": f'Bearer {os.getenv(\"TMDB_API_READ_ACCESS_TOKEN\")}'\n",
    "    }\n",
    "\n",
    "    response = requests.get(url, headers=headers)\n",
    "    \n",
    "    budget = None\n",
    "    if response.status_code != 200:\n",
    "        print(response.status_code)\n",
    "        budget = -999\n",
    "    else:\n",
    "        results = response.json()\n",
    "        budget = results['budget']\n",
    "    \n",
    "    budgets.append(budget)\n",
    "budgets"
   ]
  }
 ],
 "metadata": {
  "kernelspec": {
   "display_name": "python-template-upadB09y-py3.10",
   "language": "python",
   "name": "python3"
  },
  "language_info": {
   "codemirror_mode": {
    "name": "ipython",
    "version": 3
   },
   "file_extension": ".py",
   "mimetype": "text/x-python",
   "name": "python",
   "nbconvert_exporter": "python",
   "pygments_lexer": "ipython3",
   "version": "3.10.4"
  }
 },
 "nbformat": 4,
 "nbformat_minor": 2
}
